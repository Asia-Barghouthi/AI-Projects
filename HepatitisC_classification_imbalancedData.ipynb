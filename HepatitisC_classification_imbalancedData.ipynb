{
  "cells": [
    {
      "cell_type": "markdown",
      "source": [
        "# **1. Importing the libraries**"
      ],
      "metadata": {
        "id": "ciXks5r3c_lX"
      }
    },
    {
      "cell_type": "code",
      "source": [
        "import pandas as pd\n",
        "import numpy as np\n",
        "import matplotlib.pyplot as plt\n",
        "from sklearn.ensemble import RandomForestRegressor\n",
        "from sklearn.model_selection import train_test_split\n"
      ],
      "metadata": {
        "id": "mlHROTWWdC27"
      },
      "execution_count": 1,
      "outputs": []
    },
    {
      "cell_type": "markdown",
      "source": [
        "#  **2. Loading the data**"
      ],
      "metadata": {
        "id": "jwXOeKLmdM4R"
      }
    },
    {
      "cell_type": "code",
      "execution_count": 2,
      "metadata": {
        "colab": {
          "base_uri": "https://localhost:8080/"
        },
        "id": "Rb92qVdTQlLw",
        "outputId": "095725db-785c-4ddc-deda-6673a9bc19b8"
      },
      "outputs": [
        {
          "output_type": "execute_result",
          "data": {
            "text/plain": [
              "(615, 14)"
            ]
          },
          "metadata": {},
          "execution_count": 2
        }
      ],
      "source": [
        "df=pd.read_csv('/content/HepatitisCdata.csv')\n",
        "df.shape"
      ]
    },
    {
      "cell_type": "code",
      "source": [
        "df.head(10)"
      ],
      "metadata": {
        "colab": {
          "base_uri": "https://localhost:8080/",
          "height": 363
        },
        "id": "rrTzTYSgdYBg",
        "outputId": "7536f3bd-91df-4cde-c82e-06a1d338f596"
      },
      "execution_count": 3,
      "outputs": [
        {
          "output_type": "execute_result",
          "data": {
            "text/plain": [
              "   ID       Category  Age Sex   ALB   ALP   ALT   AST   BIL    CHE  CHOL  \\\n",
              "0   1  0=Blood Donor   32   m  38.5  52.5   7.7  22.1   7.5   6.93  3.23   \n",
              "1   2  0=Blood Donor   32   m  38.5  70.3  18.0  24.7   3.9  11.17  4.80   \n",
              "2   3  0=Blood Donor   32   m  46.9  74.7  36.2  52.6   6.1   8.84  5.20   \n",
              "3   4  0=Blood Donor   32   m  43.2  52.0  30.6  22.6  18.9   7.33  4.74   \n",
              "4   5  0=Blood Donor   32   m  39.2  74.1  32.6  24.8   9.6   9.15  4.32   \n",
              "5   6  0=Blood Donor   32   m  41.6  43.3  18.5  19.7  12.3   9.92  6.05   \n",
              "6   7  0=Blood Donor   32   m  46.3  41.3  17.5  17.8   8.5   7.01  4.79   \n",
              "7   8  0=Blood Donor   32   m  42.2  41.9  35.8  31.1  16.1   5.82  4.60   \n",
              "8   9  0=Blood Donor   32   m  50.9  65.5  23.2  21.2   6.9   8.69  4.10   \n",
              "9  10  0=Blood Donor   32   m  42.4  86.3  20.3  20.0  35.2   5.46  4.45   \n",
              "\n",
              "    CREA   GGT  PROT  \n",
              "0  106.0  12.1  69.0  \n",
              "1   74.0  15.6  76.5  \n",
              "2   86.0  33.2  79.3  \n",
              "3   80.0  33.8  75.7  \n",
              "4   76.0  29.9  68.7  \n",
              "5  111.0  91.0  74.0  \n",
              "6   70.0  16.9  74.5  \n",
              "7  109.0  21.5  67.1  \n",
              "8   83.0  13.7  71.3  \n",
              "9   81.0  15.9  69.9  "
            ],
            "text/html": [
              "\n",
              "  <div id=\"df-50c88d47-515c-4f61-8760-af983476f3a0\">\n",
              "    <div class=\"colab-df-container\">\n",
              "      <div>\n",
              "<style scoped>\n",
              "    .dataframe tbody tr th:only-of-type {\n",
              "        vertical-align: middle;\n",
              "    }\n",
              "\n",
              "    .dataframe tbody tr th {\n",
              "        vertical-align: top;\n",
              "    }\n",
              "\n",
              "    .dataframe thead th {\n",
              "        text-align: right;\n",
              "    }\n",
              "</style>\n",
              "<table border=\"1\" class=\"dataframe\">\n",
              "  <thead>\n",
              "    <tr style=\"text-align: right;\">\n",
              "      <th></th>\n",
              "      <th>ID</th>\n",
              "      <th>Category</th>\n",
              "      <th>Age</th>\n",
              "      <th>Sex</th>\n",
              "      <th>ALB</th>\n",
              "      <th>ALP</th>\n",
              "      <th>ALT</th>\n",
              "      <th>AST</th>\n",
              "      <th>BIL</th>\n",
              "      <th>CHE</th>\n",
              "      <th>CHOL</th>\n",
              "      <th>CREA</th>\n",
              "      <th>GGT</th>\n",
              "      <th>PROT</th>\n",
              "    </tr>\n",
              "  </thead>\n",
              "  <tbody>\n",
              "    <tr>\n",
              "      <th>0</th>\n",
              "      <td>1</td>\n",
              "      <td>0=Blood Donor</td>\n",
              "      <td>32</td>\n",
              "      <td>m</td>\n",
              "      <td>38.5</td>\n",
              "      <td>52.5</td>\n",
              "      <td>7.7</td>\n",
              "      <td>22.1</td>\n",
              "      <td>7.5</td>\n",
              "      <td>6.93</td>\n",
              "      <td>3.23</td>\n",
              "      <td>106.0</td>\n",
              "      <td>12.1</td>\n",
              "      <td>69.0</td>\n",
              "    </tr>\n",
              "    <tr>\n",
              "      <th>1</th>\n",
              "      <td>2</td>\n",
              "      <td>0=Blood Donor</td>\n",
              "      <td>32</td>\n",
              "      <td>m</td>\n",
              "      <td>38.5</td>\n",
              "      <td>70.3</td>\n",
              "      <td>18.0</td>\n",
              "      <td>24.7</td>\n",
              "      <td>3.9</td>\n",
              "      <td>11.17</td>\n",
              "      <td>4.80</td>\n",
              "      <td>74.0</td>\n",
              "      <td>15.6</td>\n",
              "      <td>76.5</td>\n",
              "    </tr>\n",
              "    <tr>\n",
              "      <th>2</th>\n",
              "      <td>3</td>\n",
              "      <td>0=Blood Donor</td>\n",
              "      <td>32</td>\n",
              "      <td>m</td>\n",
              "      <td>46.9</td>\n",
              "      <td>74.7</td>\n",
              "      <td>36.2</td>\n",
              "      <td>52.6</td>\n",
              "      <td>6.1</td>\n",
              "      <td>8.84</td>\n",
              "      <td>5.20</td>\n",
              "      <td>86.0</td>\n",
              "      <td>33.2</td>\n",
              "      <td>79.3</td>\n",
              "    </tr>\n",
              "    <tr>\n",
              "      <th>3</th>\n",
              "      <td>4</td>\n",
              "      <td>0=Blood Donor</td>\n",
              "      <td>32</td>\n",
              "      <td>m</td>\n",
              "      <td>43.2</td>\n",
              "      <td>52.0</td>\n",
              "      <td>30.6</td>\n",
              "      <td>22.6</td>\n",
              "      <td>18.9</td>\n",
              "      <td>7.33</td>\n",
              "      <td>4.74</td>\n",
              "      <td>80.0</td>\n",
              "      <td>33.8</td>\n",
              "      <td>75.7</td>\n",
              "    </tr>\n",
              "    <tr>\n",
              "      <th>4</th>\n",
              "      <td>5</td>\n",
              "      <td>0=Blood Donor</td>\n",
              "      <td>32</td>\n",
              "      <td>m</td>\n",
              "      <td>39.2</td>\n",
              "      <td>74.1</td>\n",
              "      <td>32.6</td>\n",
              "      <td>24.8</td>\n",
              "      <td>9.6</td>\n",
              "      <td>9.15</td>\n",
              "      <td>4.32</td>\n",
              "      <td>76.0</td>\n",
              "      <td>29.9</td>\n",
              "      <td>68.7</td>\n",
              "    </tr>\n",
              "    <tr>\n",
              "      <th>5</th>\n",
              "      <td>6</td>\n",
              "      <td>0=Blood Donor</td>\n",
              "      <td>32</td>\n",
              "      <td>m</td>\n",
              "      <td>41.6</td>\n",
              "      <td>43.3</td>\n",
              "      <td>18.5</td>\n",
              "      <td>19.7</td>\n",
              "      <td>12.3</td>\n",
              "      <td>9.92</td>\n",
              "      <td>6.05</td>\n",
              "      <td>111.0</td>\n",
              "      <td>91.0</td>\n",
              "      <td>74.0</td>\n",
              "    </tr>\n",
              "    <tr>\n",
              "      <th>6</th>\n",
              "      <td>7</td>\n",
              "      <td>0=Blood Donor</td>\n",
              "      <td>32</td>\n",
              "      <td>m</td>\n",
              "      <td>46.3</td>\n",
              "      <td>41.3</td>\n",
              "      <td>17.5</td>\n",
              "      <td>17.8</td>\n",
              "      <td>8.5</td>\n",
              "      <td>7.01</td>\n",
              "      <td>4.79</td>\n",
              "      <td>70.0</td>\n",
              "      <td>16.9</td>\n",
              "      <td>74.5</td>\n",
              "    </tr>\n",
              "    <tr>\n",
              "      <th>7</th>\n",
              "      <td>8</td>\n",
              "      <td>0=Blood Donor</td>\n",
              "      <td>32</td>\n",
              "      <td>m</td>\n",
              "      <td>42.2</td>\n",
              "      <td>41.9</td>\n",
              "      <td>35.8</td>\n",
              "      <td>31.1</td>\n",
              "      <td>16.1</td>\n",
              "      <td>5.82</td>\n",
              "      <td>4.60</td>\n",
              "      <td>109.0</td>\n",
              "      <td>21.5</td>\n",
              "      <td>67.1</td>\n",
              "    </tr>\n",
              "    <tr>\n",
              "      <th>8</th>\n",
              "      <td>9</td>\n",
              "      <td>0=Blood Donor</td>\n",
              "      <td>32</td>\n",
              "      <td>m</td>\n",
              "      <td>50.9</td>\n",
              "      <td>65.5</td>\n",
              "      <td>23.2</td>\n",
              "      <td>21.2</td>\n",
              "      <td>6.9</td>\n",
              "      <td>8.69</td>\n",
              "      <td>4.10</td>\n",
              "      <td>83.0</td>\n",
              "      <td>13.7</td>\n",
              "      <td>71.3</td>\n",
              "    </tr>\n",
              "    <tr>\n",
              "      <th>9</th>\n",
              "      <td>10</td>\n",
              "      <td>0=Blood Donor</td>\n",
              "      <td>32</td>\n",
              "      <td>m</td>\n",
              "      <td>42.4</td>\n",
              "      <td>86.3</td>\n",
              "      <td>20.3</td>\n",
              "      <td>20.0</td>\n",
              "      <td>35.2</td>\n",
              "      <td>5.46</td>\n",
              "      <td>4.45</td>\n",
              "      <td>81.0</td>\n",
              "      <td>15.9</td>\n",
              "      <td>69.9</td>\n",
              "    </tr>\n",
              "  </tbody>\n",
              "</table>\n",
              "</div>\n",
              "      <button class=\"colab-df-convert\" onclick=\"convertToInteractive('df-50c88d47-515c-4f61-8760-af983476f3a0')\"\n",
              "              title=\"Convert this dataframe to an interactive table.\"\n",
              "              style=\"display:none;\">\n",
              "        \n",
              "  <svg xmlns=\"http://www.w3.org/2000/svg\" height=\"24px\"viewBox=\"0 0 24 24\"\n",
              "       width=\"24px\">\n",
              "    <path d=\"M0 0h24v24H0V0z\" fill=\"none\"/>\n",
              "    <path d=\"M18.56 5.44l.94 2.06.94-2.06 2.06-.94-2.06-.94-.94-2.06-.94 2.06-2.06.94zm-11 1L8.5 8.5l.94-2.06 2.06-.94-2.06-.94L8.5 2.5l-.94 2.06-2.06.94zm10 10l.94 2.06.94-2.06 2.06-.94-2.06-.94-.94-2.06-.94 2.06-2.06.94z\"/><path d=\"M17.41 7.96l-1.37-1.37c-.4-.4-.92-.59-1.43-.59-.52 0-1.04.2-1.43.59L10.3 9.45l-7.72 7.72c-.78.78-.78 2.05 0 2.83L4 21.41c.39.39.9.59 1.41.59.51 0 1.02-.2 1.41-.59l7.78-7.78 2.81-2.81c.8-.78.8-2.07 0-2.86zM5.41 20L4 18.59l7.72-7.72 1.47 1.35L5.41 20z\"/>\n",
              "  </svg>\n",
              "      </button>\n",
              "      \n",
              "  <style>\n",
              "    .colab-df-container {\n",
              "      display:flex;\n",
              "      flex-wrap:wrap;\n",
              "      gap: 12px;\n",
              "    }\n",
              "\n",
              "    .colab-df-convert {\n",
              "      background-color: #E8F0FE;\n",
              "      border: none;\n",
              "      border-radius: 50%;\n",
              "      cursor: pointer;\n",
              "      display: none;\n",
              "      fill: #1967D2;\n",
              "      height: 32px;\n",
              "      padding: 0 0 0 0;\n",
              "      width: 32px;\n",
              "    }\n",
              "\n",
              "    .colab-df-convert:hover {\n",
              "      background-color: #E2EBFA;\n",
              "      box-shadow: 0px 1px 2px rgba(60, 64, 67, 0.3), 0px 1px 3px 1px rgba(60, 64, 67, 0.15);\n",
              "      fill: #174EA6;\n",
              "    }\n",
              "\n",
              "    [theme=dark] .colab-df-convert {\n",
              "      background-color: #3B4455;\n",
              "      fill: #D2E3FC;\n",
              "    }\n",
              "\n",
              "    [theme=dark] .colab-df-convert:hover {\n",
              "      background-color: #434B5C;\n",
              "      box-shadow: 0px 1px 3px 1px rgba(0, 0, 0, 0.15);\n",
              "      filter: drop-shadow(0px 1px 2px rgba(0, 0, 0, 0.3));\n",
              "      fill: #FFFFFF;\n",
              "    }\n",
              "  </style>\n",
              "\n",
              "      <script>\n",
              "        const buttonEl =\n",
              "          document.querySelector('#df-50c88d47-515c-4f61-8760-af983476f3a0 button.colab-df-convert');\n",
              "        buttonEl.style.display =\n",
              "          google.colab.kernel.accessAllowed ? 'block' : 'none';\n",
              "\n",
              "        async function convertToInteractive(key) {\n",
              "          const element = document.querySelector('#df-50c88d47-515c-4f61-8760-af983476f3a0');\n",
              "          const dataTable =\n",
              "            await google.colab.kernel.invokeFunction('convertToInteractive',\n",
              "                                                     [key], {});\n",
              "          if (!dataTable) return;\n",
              "\n",
              "          const docLinkHtml = 'Like what you see? Visit the ' +\n",
              "            '<a target=\"_blank\" href=https://colab.research.google.com/notebooks/data_table.ipynb>data table notebook</a>'\n",
              "            + ' to learn more about interactive tables.';\n",
              "          element.innerHTML = '';\n",
              "          dataTable['output_type'] = 'display_data';\n",
              "          await google.colab.output.renderOutput(dataTable, element);\n",
              "          const docLink = document.createElement('div');\n",
              "          docLink.innerHTML = docLinkHtml;\n",
              "          element.appendChild(docLink);\n",
              "        }\n",
              "      </script>\n",
              "    </div>\n",
              "  </div>\n",
              "  "
            ]
          },
          "metadata": {},
          "execution_count": 3
        }
      ]
    },
    {
      "cell_type": "markdown",
      "source": [
        "# **3. Visualisations** "
      ],
      "metadata": {
        "id": "8ygojuG1dleo"
      }
    },
    {
      "cell_type": "markdown",
      "source": [
        "###Heatmap"
      ],
      "metadata": {
        "id": "eLjNJTkKdrb1"
      }
    },
    {
      "cell_type": "code",
      "source": [
        "import seaborn as sns\n",
        "import matplotlib.pyplot as plt\n",
        "\n",
        "# Create a correlation matrix\n",
        "corr_matrix = df.corr()\n",
        "\n",
        "# Create a heatmap with a bigger size\n",
        "plt.figure(figsize=(10,8))\n",
        "sns.heatmap(corr_matrix, cmap='coolwarm', annot=True)\n",
        "\n",
        "# Show the heatmap\n",
        "plt.show()"
      ],
      "metadata": {
        "colab": {
          "base_uri": "https://localhost:8080/",
          "height": 487
        },
        "id": "qNMZ-roUdndu",
        "outputId": "73920b5b-e9c3-47dd-b0d3-18588f083963"
      },
      "execution_count": 4,
      "outputs": [
        {
          "output_type": "display_data",
          "data": {
            "text/plain": [
              "<Figure size 720x576 with 2 Axes>"
            ],
            "image/png": "[encoded data removed]"
          },
          "metadata": {
            "needs_background": "light"
          }
        }
      ]
    },
    {
      "cell_type": "markdown",
      "source": [
        "###Pair plots"
      ],
      "metadata": {
        "id": "V8l2mbfNdzF1"
      }
    },
    {
      "cell_type": "code",
      "source": [
        "# Create a pairplot\n",
        "#sns.pairplot(df)\n",
        "\n",
        "# Show the pairplot\n",
        "#plt.show()"
      ],
      "metadata": {
        "id": "RClWZGlodyev"
      },
      "execution_count": 5,
      "outputs": []
    },
    {
      "cell_type": "markdown",
      "source": [
        "\n",
        "###Box plots"
      ],
      "metadata": {
        "id": "2t4XZOQCd89d"
      }
    },
    {
      "cell_type": "code",
      "source": [
        "import seaborn as sns\n",
        "import matplotlib.pyplot as plt\n",
        "\n",
        "# Create a new figure with a larger size\n",
        "plt.figure(figsize=(10, 8))\n",
        "\n",
        "# Create a box plot\n",
        "sns.boxplot(x='Category', y='CREA', data=df)\n",
        "\n",
        "# Add a title\n",
        "plt.title('CREA & Category Box Plot')\n",
        "\n",
        "# Show the plot\n",
        "plt.show()\n"
      ],
      "metadata": {
        "colab": {
          "base_uri": "https://localhost:8080/",
          "height": 513
        },
        "id": "tT2RDrMFeFKr",
        "outputId": "e37cb093-9028-463b-ab0b-dc5705f6f043"
      },
      "execution_count": 6,
      "outputs": [
        {
          "output_type": "display_data",
          "data": {
            "text/plain": [
              "<Figure size 720x576 with 1 Axes>"
            ],
            "image/png": "[encoded data removed]"
          },
          "metadata": {
            "needs_background": "light"
          }
        }
      ]
    },
    {
      "cell_type": "code",
      "source": [
        "import seaborn as sns\n",
        "import matplotlib.pyplot as plt\n",
        "\n",
        "# Create a new figure with a larger size\n",
        "plt.figure(figsize=(10, 8))\n",
        "\n",
        "# Create a box plot\n",
        "sns.boxplot(x='Category', y='ALB', data=df)\n",
        "\n",
        "# Add a title\n",
        "plt.title('ALB & Category Box Plot')\n",
        "\n",
        "# Show the plot\n",
        "plt.show()\n"
      ],
      "metadata": {
        "colab": {
          "base_uri": "https://localhost:8080/",
          "height": 513
        },
        "id": "GrwBIEwFeK3P",
        "outputId": "f7110b61-b3ff-4c20-be6f-d898dcafaf6a"
      },
      "execution_count": 7,
      "outputs": [
        {
          "output_type": "display_data",
          "data": {
            "text/plain": [
              "<Figure size 720x576 with 1 Axes>"
            ],
            "image/png": "[encoded data removed]"
          },
          "metadata": {
            "needs_background": "light"
          }
        }
      ]
    },
    {
      "cell_type": "markdown",
      "source": [
        "### Violin plot"
      ],
      "metadata": {
        "id": "j17L9MOTeVTr"
      }
    },
    {
      "cell_type": "code",
      "source": [
        "import seaborn as sns\n",
        "import matplotlib.pyplot as plt\n",
        "\n",
        "# Create a new figure with a larger size\n",
        "plt.figure(figsize=(10, 8))\n",
        "\n",
        "# Create a violin plot\n",
        "sns.violinplot(x='Category', y='BIL', data=df)\n",
        "\n",
        "# Add a title\n",
        "plt.title('Category & BIL Violin Plot')\n",
        "\n",
        "# Show the plot\n",
        "plt.show()"
      ],
      "metadata": {
        "colab": {
          "base_uri": "https://localhost:8080/",
          "height": 513
        },
        "id": "vYPzzKOseV_O",
        "outputId": "d0cc084b-2429-4aac-ebde-552cf2ce0dfd"
      },
      "execution_count": 8,
      "outputs": [
        {
          "output_type": "display_data",
          "data": {
            "text/plain": [
              "<Figure size 720x576 with 1 Axes>"
            ],
            "image/png": "[encoded data removed]"
          },
          "metadata": {
            "needs_background": "light"
          }
        }
      ]
    },
    {
      "cell_type": "markdown",
      "source": [
        "###Scatter plots"
      ],
      "metadata": {
        "id": "tS78yTjAeeUA"
      }
    },
    {
      "cell_type": "code",
      "source": [
        "# The correlation between category and AST\n",
        "x = df['PROT']\n",
        "y = df['ALB']\n",
        "\n",
        "# Plot the data as a scatter plot\n",
        "plt.scatter(x, y, Color='red')\n",
        "\n",
        "# Add labels to the x and y axes\n",
        "plt.xlabel('Category')\n",
        "plt.ylabel('AST')\n",
        "\n",
        "# Show the plot\n",
        "plt.show()"
      ],
      "metadata": {
        "colab": {
          "base_uri": "https://localhost:8080/",
          "height": 279
        },
        "id": "LqKoOPS0eggu",
        "outputId": "9c21ad5d-b4b3-43ea-c301-0ae8eb224786"
      },
      "execution_count": 9,
      "outputs": [
        {
          "output_type": "display_data",
          "data": {
            "text/plain": [
              "<Figure size 432x288 with 1 Axes>"
            ],
            "image/png": "[encoded data removed]"
          },
          "metadata": {
            "needs_background": "light"
          }
        }
      ]
    },
    {
      "cell_type": "markdown",
      "source": [
        "# **4. Preprocessing**"
      ],
      "metadata": {
        "id": "BWNmEey0hHxO"
      }
    },
    {
      "cell_type": "markdown",
      "source": [
        "### Data cleaning"
      ],
      "metadata": {
        "id": "657NYJbohRdr"
      }
    },
    {
      "cell_type": "code",
      "execution_count": 10,
      "metadata": {
        "colab": {
          "base_uri": "https://localhost:8080/"
        },
        "id": "jmB_1UueQnP2",
        "outputId": "7086293a-b05f-4dcd-d345-a1ef90b8433b"
      },
      "outputs": [
        {
          "output_type": "execute_result",
          "data": {
            "text/plain": [
              "ID           0\n",
              "Category     0\n",
              "Age          0\n",
              "Sex          0\n",
              "ALB          1\n",
              "ALP         18\n",
              "ALT          1\n",
              "AST          0\n",
              "BIL          0\n",
              "CHE          0\n",
              "CHOL        10\n",
              "CREA         0\n",
              "GGT          0\n",
              "PROT         1\n",
              "dtype: int64"
            ]
          },
          "metadata": {},
          "execution_count": 10
        }
      ],
      "source": [
        "#Checking missing values\n",
        "df.isnull().sum()"
      ]
    },
    {
      "cell_type": "code",
      "execution_count": 11,
      "metadata": {
        "id": "ZULZfYcUQrl1"
      },
      "outputs": [],
      "source": [
        "#Handling missing values\n",
        "df=df.dropna()"
      ]
    },
    {
      "cell_type": "code",
      "execution_count": 12,
      "metadata": {
        "colab": {
          "base_uri": "https://localhost:8080/"
        },
        "id": "zZTQ49rUQtm3",
        "outputId": "405d630f-cea1-4005-ee0e-3fa6394b65a1"
      },
      "outputs": [
        {
          "output_type": "execute_result",
          "data": {
            "text/plain": [
              "(589, 14)"
            ]
          },
          "metadata": {},
          "execution_count": 12
        }
      ],
      "source": [
        "df.shape"
      ]
    },
    {
      "cell_type": "code",
      "execution_count": 13,
      "metadata": {
        "colab": {
          "base_uri": "https://localhost:8080/"
        },
        "id": "FeTsCQm2Qwfm",
        "outputId": "05ab3a78-e2b0-461d-c911-799fc28c8e59"
      },
      "outputs": [
        {
          "output_type": "execute_result",
          "data": {
            "text/plain": [
              "ID          0\n",
              "Category    0\n",
              "Age         0\n",
              "Sex         0\n",
              "ALB         0\n",
              "ALP         0\n",
              "ALT         0\n",
              "AST         0\n",
              "BIL         0\n",
              "CHE         0\n",
              "CHOL        0\n",
              "CREA        0\n",
              "GGT         0\n",
              "PROT        0\n",
              "dtype: int64"
            ]
          },
          "metadata": {},
          "execution_count": 13
        }
      ],
      "source": [
        "df.isnull().sum()"
      ]
    },
    {
      "cell_type": "code",
      "source": [
        "# Remove duplicates\n",
        "df = df.drop_duplicates()"
      ],
      "metadata": {
        "id": "vaV-yHO3ioKw"
      },
      "execution_count": 14,
      "outputs": []
    },
    {
      "cell_type": "code",
      "source": [
        "df.shape"
      ],
      "metadata": {
        "colab": {
          "base_uri": "https://localhost:8080/"
        },
        "id": "cNr2HULviqUh",
        "outputId": "c634b24a-2bc9-45af-9296-657dec1bc45f"
      },
      "execution_count": 15,
      "outputs": [
        {
          "output_type": "execute_result",
          "data": {
            "text/plain": [
              "(589, 14)"
            ]
          },
          "metadata": {},
          "execution_count": 15
        }
      ]
    },
    {
      "cell_type": "markdown",
      "source": [
        "###Checking imbalanced data"
      ],
      "metadata": {
        "id": "nqvRMMDFi3YG"
      }
    },
    {
      "cell_type": "code",
      "execution_count": 16,
      "metadata": {
        "colab": {
          "base_uri": "https://localhost:8080/",
          "height": 408
        },
        "id": "SUFA4MiXQyF-",
        "outputId": "5d127fcb-04cc-4462-d24f-5c8f5ce10d63"
      },
      "outputs": [
        {
          "output_type": "display_data",
          "data": {
            "text/plain": [
              "<Figure size 432x288 with 1 Axes>"
            ],
            "image/png": "[encoded data removed]"
          },
          "metadata": {
            "needs_background": "light"
          }
        }
      ],
      "source": [
        "# Making bar plots to check Category distributions \n",
        "df['Category'].value_counts().plot(kind='bar')\n",
        "plt.xlabel('Category')\n",
        "plt.ylabel('Count')\n",
        "plt.title('Category Distribution')\n",
        "\n",
        "plt.show()"
      ]
    },
    {
      "cell_type": "code",
      "execution_count": 17,
      "metadata": {
        "colab": {
          "base_uri": "https://localhost:8080/"
        },
        "id": "dAb0Up4LQ1JH",
        "outputId": "cc9a63b3-c131-4eaf-8548-94aae9008e96"
      },
      "outputs": [
        {
          "output_type": "execute_result",
          "data": {
            "text/plain": [
              "0=Blood Donor             526\n",
              "3=Cirrhosis                24\n",
              "1=Hepatitis                20\n",
              "2=Fibrosis                 12\n",
              "0s=suspect Blood Donor      7\n",
              "Name: Category, dtype: int64"
            ]
          },
          "metadata": {},
          "execution_count": 17
        }
      ],
      "source": [
        "df['Category'].value_counts()"
      ]
    },
    {
      "cell_type": "code",
      "source": [
        "#As shown in the visulization and value count function that the data is imbalanced so oversampling or undersampling must be done   "
      ],
      "metadata": {
        "id": "ITS_ENfIjsH9"
      },
      "execution_count": 18,
      "outputs": []
    },
    {
      "cell_type": "markdown",
      "source": [
        "### Handling categorical features"
      ],
      "metadata": {
        "id": "6fNF2YMnj4Rn"
      }
    },
    {
      "cell_type": "code",
      "execution_count": 19,
      "metadata": {
        "id": "EXuyckkCRL5Y"
      },
      "outputs": [],
      "source": [
        "# Encoding the categorical feature into numeric values\n",
        "df['Category'], uniques = pd.factorize(df['Category'])\n"
      ]
    },
    {
      "cell_type": "code",
      "execution_count": 20,
      "metadata": {
        "id": "tHQli1fpSUio"
      },
      "outputs": [],
      "source": [
        "# Encoding the categorical feature (Sex) into numeric values\n",
        "df['Sex'], uniques = pd.factorize(df['Sex'])"
      ]
    },
    {
      "cell_type": "code",
      "source": [
        "print(df.dtypes)"
      ],
      "metadata": {
        "colab": {
          "base_uri": "https://localhost:8080/"
        },
        "id": "NsPFpe5WkO8d",
        "outputId": "ba36d706-daf7-4773-b9aa-f90a73e0f588"
      },
      "execution_count": 21,
      "outputs": [
        {
          "output_type": "stream",
          "name": "stdout",
          "text": [
            "ID            int64\n",
            "Category      int64\n",
            "Age           int64\n",
            "Sex           int64\n",
            "ALB         float64\n",
            "ALP         float64\n",
            "ALT         float64\n",
            "AST         float64\n",
            "BIL         float64\n",
            "CHE         float64\n",
            "CHOL        float64\n",
            "CREA        float64\n",
            "GGT         float64\n",
            "PROT        float64\n",
            "dtype: object\n"
          ]
        }
      ]
    },
    {
      "cell_type": "markdown",
      "source": [
        "###Undersampling the majority class"
      ],
      "metadata": {
        "id": "4_cIRTHrk7jH"
      }
    },
    {
      "cell_type": "code",
      "execution_count": 22,
      "metadata": {
        "id": "M2Sd0N1hRanm"
      },
      "outputs": [],
      "source": [
        "from sklearn.model_selection import train_test_split\n",
        "X = df.drop('Category', axis=1)\n",
        "y = df['Category']\n",
        "X_train, X_test, y_train, y_test = train_test_split(X, y, test_size=0.3, random_state=42)"
      ]
    },
    {
      "cell_type": "code",
      "source": [
        "from imblearn.under_sampling import RandomUnderSampler\n",
        "import pandas as pd\n",
        "import numpy as np\n",
        "\n",
        "\n",
        "sampler = RandomUnderSampler(sampling_strategy='majority')\n",
        "\n",
        "# fit and transform the data to undersample the majority class\n",
        "X_r, y_r = sampler.fit_resample(X_train, y_train)"
      ],
      "metadata": {
        "id": "4rsnEpxMmA_t"
      },
      "execution_count": 23,
      "outputs": []
    },
    {
      "cell_type": "code",
      "execution_count": 24,
      "metadata": {
        "colab": {
          "base_uri": "https://localhost:8080/",
          "height": 655
        },
        "id": "k8zKZNwmR4OF",
        "outputId": "56323297-9d37-41b6-f305-1cb57d327d56"
      },
      "outputs": [
        {
          "output_type": "display_data",
          "data": {
            "text/plain": [
              "<Figure size 576x360 with 1 Axes>"
            ],
            "image/png": "[encoded data removed]"
          },
          "metadata": {
            "needs_background": "light"
          }
        },
        {
          "output_type": "display_data",
          "data": {
            "text/plain": [
              "<Figure size 576x360 with 1 Axes>"
            ],
            "image/png": "[encoded data removed]"
          },
          "metadata": {
            "needs_background": "light"
          }
        }
      ],
      "source": [
        "# Original class distribution\n",
        "plt.figure(figsize=(8, 5))\n",
        "plt.hist(y)\n",
        "plt.title(\"Original class distribution\")\n",
        "plt.show()\n",
        "\n",
        "# Oversampled class distribution\n",
        "plt.figure(figsize=(8, 5))\n",
        "plt.hist(y_r)\n",
        "plt.title(\"Resampled class distribution\")\n",
        "plt.show()"
      ]
    },
    {
      "cell_type": "markdown",
      "source": [
        "#**5. Modeling**"
      ],
      "metadata": {
        "id": "j09EDvGi3fI-"
      }
    },
    {
      "cell_type": "markdown",
      "source": [
        "### Random Forest"
      ],
      "metadata": {
        "id": "MJ1Dd1hb37n4"
      }
    },
    {
      "cell_type": "code",
      "execution_count": 25,
      "metadata": {
        "colab": {
          "base_uri": "https://localhost:8080/"
        },
        "id": "WbWrIT59UYAU",
        "outputId": "ef68e0ae-ceaa-4528-fea0-1033b0e07978"
      },
      "outputs": [
        {
          "output_type": "stream",
          "name": "stdout",
          "text": [
            "RF accuracy score: 0.4461016949152543\n",
            "RF precision score: 0.6254692207202796\n",
            "RF recall score: 0.6694218543046356\n",
            "RF F1 score: 0.5490841301843872\n"
          ]
        }
      ],
      "source": [
        "from sklearn.ensemble import RandomForestClassifier\n",
        "from sklearn.metrics import accuracy_score, recall_score, precision_score, f1_score\n",
        "\n",
        "scores = []\n",
        "precisions = []\n",
        "recalls = []\n",
        "f1s = []\n",
        "for i in range(50):\n",
        "    \n",
        "    model = RandomForestClassifier()\n",
        "    model.fit(X_r, y_r)\n",
        "    y_pred = model.predict(X_test)\n",
        "    score = accuracy_score(y_test, y_pred)\n",
        "    precision = precision_score(y_test, y_pred ,average='macro',zero_division=0.0)\n",
        "    recall = recall_score(y_test, y_pred,average='macro',zero_division=0.0)\n",
        "    f1 = f1_score(y_test, y_pred,average='macro',zero_division=0.0)\n",
        "    scores.append(score)\n",
        "    precisions.append(precision)\n",
        "    recalls.append(recall)\n",
        "    f1s.append(f1)\n",
        "\n",
        "# Calculate the average accuracy, precision, recall, and F1 score\n",
        "RF_average_score = np.mean(scores)\n",
        "RF_average_precision = np.mean(precisions)\n",
        "RF_average_recall = np.mean(recalls)\n",
        "RF_average_f1 = np.mean(f1s)\n",
        "\n",
        "print(\"RF accuracy score:\", RF_average_score)\n",
        "print(\"RF precision score:\", RF_average_precision)\n",
        "print(\"RF recall score:\", RF_average_recall)\n",
        "print(\"RF F1 score:\", RF_average_f1)"
      ]
    },
    {
      "cell_type": "markdown",
      "source": [
        "### XGboost"
      ],
      "metadata": {
        "id": "5uvhADX74FJG"
      }
    },
    {
      "cell_type": "code",
      "execution_count": 26,
      "metadata": {
        "colab": {
          "base_uri": "https://localhost:8080/"
        },
        "id": "rNcGKaQ8V9pb",
        "outputId": "3ba250df-8b31-48ec-d116-69cae13a0b2b"
      },
      "outputs": [
        {
          "output_type": "stream",
          "name": "stdout",
          "text": [
            "XGboost accuracy score: 0.8248587570621468\n",
            "XGboost precision score: 0.7745777777777779\n",
            "XGboost recall score: 0.8429139072847682\n",
            "XGboost F1 score: 0.7509881422924901\n"
          ]
        }
      ],
      "source": [
        "import xgboost as xgb\n",
        "\n",
        "scores = []\n",
        "precisions = []\n",
        "recalls = []\n",
        "f1s = []\n",
        "for i in range(50):\n",
        "    \n",
        "    model = xgb.XGBClassifier()\n",
        "    model.fit(X_r, y_r)\n",
        "    y_pred = model.predict(X_test)\n",
        "    score = accuracy_score(y_test, y_pred)\n",
        "    precision = precision_score(y_test, y_pred ,average='macro',zero_division=0.0)\n",
        "    recall = recall_score(y_test, y_pred,average='macro',zero_division=0.0)\n",
        "    f1 = f1_score(y_test, y_pred,average='macro',zero_division=0.0)\n",
        "    scores.append(score)\n",
        "    precisions.append(precision)\n",
        "    recalls.append(recall)\n",
        "    f1s.append(f1)\n",
        "\n",
        "# Calculate the average accuracy, precision, recall, and F1 score\n",
        "XG_average_score = np.mean(scores)\n",
        "XG_average_precision = np.mean(precisions)\n",
        "XG_average_recall = np.mean(recalls)\n",
        "XG_average_f1 = np.mean(f1s)\n",
        "\n",
        "print(\"XGboost accuracy score:\", XG_average_score)\n",
        "print(\"XGboost precision score:\", XG_average_precision)\n",
        "print(\"XGboost recall score:\", XG_average_recall)\n",
        "print(\"XGboost F1 score:\", XG_average_f1)\n",
        "\n",
        "\n",
        "\n",
        "\n",
        "\n"
      ]
    },
    {
      "cell_type": "markdown",
      "source": [
        "### Gradient boosting"
      ],
      "metadata": {
        "id": "FJ5VrqvS4sF3"
      }
    },
    {
      "cell_type": "code",
      "execution_count": 27,
      "metadata": {
        "colab": {
          "base_uri": "https://localhost:8080/"
        },
        "id": "xqzaZeknW1qw",
        "outputId": "12162825-855f-4d56-cfb0-dbecca6d7f5a"
      },
      "outputs": [
        {
          "output_type": "stream",
          "name": "stdout",
          "text": [
            "GB accuracy score: 0.9661016949152541\n",
            "GB precision score: 0.92\n",
            "GB recall score: 0.9147019867549671\n",
            "GB F1 score: 0.8973154362416108\n"
          ]
        }
      ],
      "source": [
        "from sklearn.ensemble import GradientBoostingClassifier\n",
        "from sklearn.metrics import accuracy_score, precision_score, recall_score, f1_score\n",
        "\n",
        "scores = []\n",
        "precisions = []\n",
        "recalls = []\n",
        "f1s = []\n",
        "for i in range(50):\n",
        "    model = GradientBoostingClassifier()\n",
        "    model.fit(X_r, y_r)\n",
        "    y_pred = model.predict(X_test)\n",
        "    score = accuracy_score(y_test, y_pred)\n",
        "    precision = precision_score(y_test, y_pred ,average='macro',zero_division=0.0)\n",
        "    recall = recall_score(y_test, y_pred,average='macro',zero_division=0.0)\n",
        "    f1 = f1_score(y_test, y_pred,average='macro',zero_division=0.0)\n",
        "    scores.append(score)\n",
        "    precisions.append(precision)\n",
        "    recalls.append(recall)\n",
        "    f1s.append(f1)\n",
        "\n",
        "# Calculate the average accuracy, precision, recall, and F1 score\n",
        "GB_average_score = np.mean(scores)\n",
        "GB_average_precision = np.mean(precisions)\n",
        "GB_average_recall = np.mean(recalls)\n",
        "GB_average_f1 = np.mean(f1s)\n",
        "\n",
        "print(\"GB accuracy score:\", GB_average_score)\n",
        "print(\"GB precision score:\", GB_average_precision)\n",
        "print(\"GB recall score:\", GB_average_recall)\n",
        "print(\"GB F1 score:\", GB_average_f1)\n",
        "\n",
        " \n"
      ]
    },
    {
      "cell_type": "markdown",
      "source": [
        "###AdaBoost"
      ],
      "metadata": {
        "id": "8ysuqae1_FkK"
      }
    },
    {
      "cell_type": "code",
      "source": [
        "from sklearn.ensemble import AdaBoostClassifier\n",
        "\n",
        "scores = []\n",
        "precisions = []\n",
        "recalls = []\n",
        "f1s = []\n",
        "for i in range(50):\n",
        "    adaboost = AdaBoostClassifier(n_estimators=100, random_state=0)\n",
        "    model.fit(X_r, y_r)\n",
        "    y_pred = model.predict(X_test)\n",
        "    score = accuracy_score(y_test, y_pred)\n",
        "    precision = precision_score(y_test, y_pred ,average='macro',zero_division=0.0)\n",
        "    recall = recall_score(y_test, y_pred,average='macro',zero_division=0.0)\n",
        "    f1 = f1_score(y_test, y_pred,average='macro',zero_division=0.0)\n",
        "    scores.append(score)\n",
        "    precisions.append(precision)\n",
        "    recalls.append(recall)\n",
        "    f1s.append(f1)\n",
        "\n",
        "# Calculate the average accuracy, precision, recall, and F1 score\n",
        "AD_average_score = np.mean(scores)\n",
        "AD_average_precision = np.mean(precisions)\n",
        "AD_average_recall = np.mean(recalls)\n",
        "AD_average_f1 = np.mean(f1s)\n",
        "\n",
        "print(\"AD accuracy score:\", AD_average_score)\n",
        "print(\"AD precision score:\", AD_average_precision)\n",
        "print(\"AD recall score:\", AD_average_recall)\n",
        "print(\"AD F1 score:\", AD_average_f1)\n"
      ],
      "metadata": {
        "colab": {
          "base_uri": "https://localhost:8080/"
        },
        "id": "VoAop0BJ-OEH",
        "outputId": "2a5a2dca-9b0c-478b-d9c6-3350a65b0b1d"
      },
      "execution_count": 28,
      "outputs": [
        {
          "output_type": "stream",
          "name": "stdout",
          "text": [
            "AD accuracy score: 0.9661016949152541\n",
            "AD precision score: 0.92\n",
            "AD recall score: 0.9147019867549671\n",
            "AD F1 score: 0.8973154362416108\n"
          ]
        }
      ]
    },
    {
      "cell_type": "markdown",
      "source": [
        "### Decision tree"
      ],
      "metadata": {
        "id": "9Pokt-rO49Z_"
      }
    },
    {
      "cell_type": "code",
      "source": [
        "from sklearn import tree\n",
        "\n",
        "scores = []\n",
        "precisions = []\n",
        "recalls = []\n",
        "f1s = []\n",
        "for i in range(50):\n",
        "    model = tree.DecisionTreeClassifier()\n",
        "    model.fit(X_r, y_r)\n",
        "    y_pred = model.predict(X_test)\n",
        "    score = accuracy_score(y_test, y_pred)\n",
        "    precision = precision_score(y_test, y_pred ,average='macro',zero_division=0.0)\n",
        "    recall = recall_score(y_test, y_pred,average='macro',zero_division=0.0)\n",
        "    f1 = f1_score(y_test, y_pred,average='macro',zero_division=0.0)\n",
        "    scores.append(score)\n",
        "    precisions.append(precision)\n",
        "    recalls.append(recall)\n",
        "    f1s.append(f1)\n",
        "\n",
        "# Calculate the average accuracy, precision, recall, and F1 score\n",
        "DT_average_score = np.mean(scores)\n",
        "DT_average_precision = np.mean(precisions)\n",
        "DT_average_recall = np.mean(recalls)\n",
        "DT_average_f1 = np.mean(f1s)\n",
        "\n",
        "print(\"DT accuracy score:\", DT_average_score)\n",
        "print(\"DT precision score:\", DT_average_precision)\n",
        "print(\"DT recall score:\", DT_average_recall)\n",
        "print(\"DT F1 score:\", DT_average_f1)"
      ],
      "metadata": {
        "colab": {
          "base_uri": "https://localhost:8080/"
        },
        "id": "-HpKgH9YfpCo",
        "outputId": "b7b5246a-33d4-47f5-a1a6-67807ff295a4"
      },
      "execution_count": 29,
      "outputs": [
        {
          "output_type": "stream",
          "name": "stdout",
          "text": [
            "DT accuracy score: 0.9568361581920903\n",
            "DT precision score: 0.8898377793522712\n",
            "DT recall score: 0.9125298013245033\n",
            "DT F1 score: 0.8931243140121755\n"
          ]
        }
      ]
    },
    {
      "cell_type": "markdown",
      "source": [
        "#**6. Comparison between different models**#"
      ],
      "metadata": {
        "id": "Zpqs9UbM5JEP"
      }
    },
    {
      "cell_type": "markdown",
      "source": [
        "Before focusing on the evaluation measures, It's good to know that in imbalanced data classifications, the accuracy measure is'nt reliable."
      ],
      "metadata": {
        "id": "JtVqfhAcN6WV"
      }
    },
    {
      "cell_type": "code",
      "source": [
        "import matplotlib.pyplot as plt\n",
        "\n",
        "# data for the bars\n",
        "data = [DT_average_score, RF_average_score, XG_average_score,AD_average_score , GB_average_score]\n",
        "\n",
        "# create the bar chart\n",
        "plt.bar(range(len(data)), data,color='gray')\n",
        "\n",
        "# add labels for the x-axis\n",
        "plt.xticks(range(len(data)), ['DT', 'RF', 'XG', 'AD', 'GB'])\n",
        "\n",
        "# add a title\n",
        "plt.title(\"Accuracy\")\n",
        "\n",
        "# display the chart\n",
        "plt.show()\n"
      ],
      "metadata": {
        "colab": {
          "base_uri": "https://localhost:8080/",
          "height": 281
        },
        "id": "7cRzKhpEIuks",
        "outputId": "9e221f6a-081d-441e-8310-8ec557af54d9"
      },
      "execution_count": 30,
      "outputs": [
        {
          "output_type": "display_data",
          "data": {
            "text/plain": [
              "<Figure size 432x288 with 1 Axes>"
            ],
            "image/png": "[encoded data removed]"
          },
          "metadata": {
            "needs_background": "light"
          }
        }
      ]
    },
    {
      "cell_type": "code",
      "source": [
        "import matplotlib.pyplot as plt\n",
        "\n",
        "# data for the bars\n",
        "data = [DT_average_precision, RF_average_precision, XG_average_precision,AD_average_precision , GB_average_precision]\n",
        "\n",
        "# create the bar chart\n",
        "plt.bar(range(len(data)), data, color='pink')\n",
        "\n",
        "# add labels for the x-axis\n",
        "plt.xticks(range(len(data)), ['DT', 'RF', 'XG', 'AD', 'GB'])\n",
        "\n",
        "# add a title\n",
        "plt.title(\"Precision\")\n",
        "\n",
        "# display the chart\n",
        "plt.show()"
      ],
      "metadata": {
        "colab": {
          "base_uri": "https://localhost:8080/",
          "height": 281
        },
        "id": "zC7-8-FoKI2l",
        "outputId": "e508ba27-0238-46c7-e96d-9b6511cc7c91"
      },
      "execution_count": 31,
      "outputs": [
        {
          "output_type": "display_data",
          "data": {
            "text/plain": [
              "<Figure size 432x288 with 1 Axes>"
            ],
            "image/png": "[encoded data removed]"
          },
          "metadata": {
            "needs_background": "light"
          }
        }
      ]
    },
    {
      "cell_type": "code",
      "source": [
        "import matplotlib.pyplot as plt\n",
        "\n",
        "# data for the line\n",
        "data = [DT_average_recall, RF_average_recall ,XG_average_recall ,AD_average_recall , GB_average_recall]\n",
        "\n",
        "# create the line chart\n",
        "plt.plot(data)\n",
        "\n",
        "# add labels for the x-axis\n",
        "plt.xticks(range(len(data)), ['DT', 'RF', 'XG', 'AD', 'GB'])\n",
        "\n",
        "# add a title\n",
        "plt.title(\"Recall\")\n",
        "\n",
        "# display the chart\n",
        "plt.show()\n"
      ],
      "metadata": {
        "colab": {
          "base_uri": "https://localhost:8080/",
          "height": 281
        },
        "id": "bbWKw8zDKxNl",
        "outputId": "e8d64f89-8615-4894-be1b-05498037124e"
      },
      "execution_count": 32,
      "outputs": [
        {
          "output_type": "display_data",
          "data": {
            "text/plain": [
              "<Figure size 432x288 with 1 Axes>"
            ],
            "image/png": "[encoded data removed]"
          },
          "metadata": {
            "needs_background": "light"
          }
        }
      ]
    },
    {
      "cell_type": "code",
      "source": [
        "import matplotlib.pyplot as plt\n",
        "\n",
        "# data for the line\n",
        "data = [DT_average_f1, RF_average_f1 ,XG_average_f1 ,AD_average_f1 , GB_average_f1]\n",
        "\n",
        "# create the line chart\n",
        "plt.plot(data)\n",
        "\n",
        "# add labels for the x-axis\n",
        "plt.xticks(range(len(data)), ['DT', 'RF', 'XG', 'AD', 'GB'])\n",
        "\n",
        "# add a title\n",
        "plt.title(\"F1 score\")\n",
        "\n",
        "# display the chart\n",
        "plt.show()"
      ],
      "metadata": {
        "colab": {
          "base_uri": "https://localhost:8080/",
          "height": 281
        },
        "id": "ZXsrxjpNKxaE",
        "outputId": "d39e0bd9-18af-40e7-adbb-6bfd0d0fea0e"
      },
      "execution_count": 33,
      "outputs": [
        {
          "output_type": "display_data",
          "data": {
            "text/plain": [
              "<Figure size 432x288 with 1 Axes>"
            ],
            "image/png": "[encoded data removed]"
          },
          "metadata": {
            "needs_background": "light"
          }
        }
      ]
    }
  ],
  "metadata": {
    "colab": {
      "provenance": [],
      "toc_visible": true
    },
    "kernelspec": {
      "display_name": "Python 3",
      "name": "python3"
    },
    "language_info": {
      "name": "python"
    }
  },
  "nbformat": 4,
  "nbformat_minor": 0
}